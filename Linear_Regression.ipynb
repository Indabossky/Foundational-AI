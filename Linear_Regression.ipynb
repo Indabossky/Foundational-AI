{
 "cells": [
  {
   "cell_type": "code",
   "execution_count": 1,
   "metadata": {},
   "outputs": [
    {
     "name": "stdout",
     "output_type": "stream",
     "text": [
      "Requirement already satisfied: ucimlrepo in /Users/jmoore/anaconda3/lib/python3.11/site-packages (0.0.7)\n",
      "Requirement already satisfied: pandas>=1.0.0 in /Users/jmoore/anaconda3/lib/python3.11/site-packages (from ucimlrepo) (2.0.3)\n",
      "Requirement already satisfied: certifi>=2020.12.5 in /Users/jmoore/anaconda3/lib/python3.11/site-packages (from ucimlrepo) (2024.2.2)\n",
      "Requirement already satisfied: python-dateutil>=2.8.2 in /Users/jmoore/anaconda3/lib/python3.11/site-packages (from pandas>=1.0.0->ucimlrepo) (2.8.2)\n",
      "Requirement already satisfied: pytz>=2020.1 in /Users/jmoore/anaconda3/lib/python3.11/site-packages (from pandas>=1.0.0->ucimlrepo) (2023.3.post1)\n",
      "Requirement already satisfied: tzdata>=2022.1 in /Users/jmoore/anaconda3/lib/python3.11/site-packages (from pandas>=1.0.0->ucimlrepo) (2023.3)\n",
      "Requirement already satisfied: numpy>=1.21.0 in /Users/jmoore/anaconda3/lib/python3.11/site-packages (from pandas>=1.0.0->ucimlrepo) (1.24.3)\n",
      "Requirement already satisfied: six>=1.5 in /Users/jmoore/anaconda3/lib/python3.11/site-packages (from python-dateutil>=2.8.2->pandas>=1.0.0->ucimlrepo) (1.16.0)\n",
      "Requirement already satisfied: scikit-learn in /Users/jmoore/anaconda3/lib/python3.11/site-packages (1.3.0)\n",
      "Requirement already satisfied: numpy>=1.17.3 in /Users/jmoore/anaconda3/lib/python3.11/site-packages (from scikit-learn) (1.24.3)\n",
      "Requirement already satisfied: scipy>=1.5.0 in /Users/jmoore/anaconda3/lib/python3.11/site-packages (from scikit-learn) (1.11.1)\n",
      "Requirement already satisfied: joblib>=1.1.1 in /Users/jmoore/anaconda3/lib/python3.11/site-packages (from scikit-learn) (1.2.0)\n",
      "Requirement already satisfied: threadpoolctl>=2.0.0 in /Users/jmoore/anaconda3/lib/python3.11/site-packages (from scikit-learn) (2.2.0)\n"
     ]
    }
   ],
   "source": [
    "import math\n",
    "!pip install ucimlrepo\n",
    "!pip install scikit-learn"
   ]
  },
  {
   "cell_type": "code",
   "execution_count": 2,
   "metadata": {},
   "outputs": [
    {
     "name": "stdout",
     "output_type": "stream",
     "text": [
      "Requirement already satisfied: ucimlrepo in /Library/Frameworks/Python.framework/Versions/3.12/lib/python3.12/site-packages (0.0.7)\n",
      "Requirement already satisfied: pandas>=1.0.0 in /Library/Frameworks/Python.framework/Versions/3.12/lib/python3.12/site-packages (from ucimlrepo) (2.2.3)\n",
      "Requirement already satisfied: certifi>=2020.12.5 in /Library/Frameworks/Python.framework/Versions/3.12/lib/python3.12/site-packages (from ucimlrepo) (2025.1.31)\n",
      "Requirement already satisfied: numpy>=1.26.0 in /Library/Frameworks/Python.framework/Versions/3.12/lib/python3.12/site-packages (from pandas>=1.0.0->ucimlrepo) (1.26.4)\n",
      "Requirement already satisfied: python-dateutil>=2.8.2 in /Users/jmoore/Library/Python/3.12/lib/python/site-packages (from pandas>=1.0.0->ucimlrepo) (2.8.2)\n",
      "Requirement already satisfied: pytz>=2020.1 in /Library/Frameworks/Python.framework/Versions/3.12/lib/python3.12/site-packages (from pandas>=1.0.0->ucimlrepo) (2025.1)\n",
      "Requirement already satisfied: tzdata>=2022.7 in /Library/Frameworks/Python.framework/Versions/3.12/lib/python3.12/site-packages (from pandas>=1.0.0->ucimlrepo) (2025.1)\n",
      "Requirement already satisfied: six>=1.5 in /Users/jmoore/Library/Python/3.12/lib/python/site-packages (from python-dateutil>=2.8.2->pandas>=1.0.0->ucimlrepo) (1.16.0)\n",
      "Note: you may need to restart the kernel to use updated packages.\n"
     ]
    }
   ],
   "source": [
    "pip install --upgrade ucimlrepo"
   ]
  },
  {
   "cell_type": "code",
   "execution_count": 1,
   "metadata": {},
   "outputs": [
    {
     "name": "stdout",
     "output_type": "stream",
     "text": [
      "Rows removed: 6\n"
     ]
    }
   ],
   "source": [
    "from ucimlrepo import fetch_ucirepo\n",
    "import pandas as pd\n",
    "\n",
    "autompg = fetch_ucirepo(id=9)\n",
    "\n",
    "X = autompg.data.features\n",
    "y = autompg.data.targets\n",
    "\n",
    "data = pd.concat([X, y], axis=1)\n",
    "\n",
    "cleaned_data = data.dropna()\n",
    "\n",
    "X = cleaned_data.iloc[:, :-1]\n",
    "y = cleaned_data.iloc[:, -1]\n",
    "\n",
    "rows_removed = len(data) - len(cleaned_data)\n",
    "print(f\"Rows removed: {rows_removed}\")"
   ]
  },
  {
   "cell_type": "code",
   "execution_count": 4,
   "metadata": {},
   "outputs": [],
   "source": [
    "from sklearn.model_selection import train_test_split\n",
    "\n",
    "X_train, X_leftover, y_train, y_leftover = train_test_split(X, y, test_size=0.3, random_state=42, shuffle=True)\n",
    "\n",
    "X_val, X_test, y_val, y_test = train_test_split(X_leftover, y_leftover, test_size=0.5, random_state=42, shuffle=True)\n",
    "\n",
    "X_mean = X_train.mean(axis=0)\n",
    "X_std = X_train.std(axis=0)\n",
    "\n",
    "X_train = ((X_train - X_mean) / X_std).to_numpy()\n",
    "X_val = ((X_val - X_mean) / X_std).to_numpy()\n",
    "X_test = ((X_test - X_mean) / X_std).to_numpy()\n",
    "\n",
    "y_mean = y_train.mean(axis=0)\n",
    "y_std = y_train.std(axis=0)\n",
    "\n",
    "y_train = ((y_train - y_mean) / y_std).to_numpy()\n",
    "y_val = ((y_val - y_mean) / y_std).to_numpy()\n",
    "y_test = ((y_test - y_mean) / y_std).to_numpy()\n"
   ]
  },
  {
   "cell_type": "code",
   "execution_count": 5,
   "metadata": {},
   "outputs": [
    {
     "data": {
      "text/plain": [
       "((274, 7), (274,), (59, 7), (59,), (59, 7), (59,))"
      ]
     },
     "execution_count": 5,
     "metadata": {},
     "output_type": "execute_result"
    }
   ],
   "source": [
    "X_train.shape, y_train.shape, X_val.shape, y_val.shape, X_test.shape, y_test.shape"
   ]
  },
  {
   "cell_type": "code",
   "execution_count": 6,
   "metadata": {},
   "outputs": [],
   "source": [
    "import numpy as np\n",
    "import math\n",
    "\n",
    "def mse_loss(y_pred: np.ndarray, y_actual: np.ndarray):\n",
    "    \"\"\"\n",
    "    Calculate the Mean Squared Error loss\n",
    "    :param y_pred: predicted y values\n",
    "    :param y_actual: actual y values\n",
    "    :return: mean squared error\n",
    "    \"\"\"\n",
    "    return 1 / 2 * np.mean(np.square(y_pred - y_actual.flatten()))\n",
    "\n",
    "\n",
    "def mse_loss_gradient(x: np.ndarray, y_pred: np.ndarray, y_actual: np.ndarray):\n",
    "    \"\"\"\n",
    "    Calculate the partial derivative of the MSE loss function wrt weights and bias\n",
    "    :param x: x data\n",
    "    :param y_pred: predicted y data\n",
    "    :param y_actual: actual y data\n",
    "    :return: derivative of loss wrt (weight, bias)\n",
    "    \"\"\"\n",
    "    error = y_pred - y_actual.flatten()\n",
    "\n",
    "    dL_dw = x.T @ error\n",
    "    dL_db = np.sum(error)\n",
    "\n",
    "    return dL_dw / len(x), dL_db / len(x)\n",
    "\n",
    "class LinearRegression:\n",
    "    def __init__(self, num_features, y_mean, y_std):\n",
    "        self.num_features = num_features\n",
    "        self.w = np.random.normal(size=num_features) * 0.01\n",
    "        self.b  = 0.0\n",
    "        self.y_mean = y_mean\n",
    "        self.y_std = y_std\n",
    "\n",
    "\n",
    "    def y_pred(self, X):\n",
    "        assert X.shape[1] == self.num_features, \"Number of features must match\"\n",
    "        return self.w @ X.T + self.b\n",
    "    \n",
    "    def y_pred_mpg(self, X):\n",
    "        return self.y_pred(X) * y_std + y_mean\n",
    "\n",
    "    def train(self, X, y, X_val, y_val, epochs = 30, lr = 1e-3, batch_size = 8):\n",
    "        assert len(X) == len(y), \"Number of samples and labels must match\"\n",
    "        x_batches = np.array_split(X, math.ceil(len(X) / batch_size))\n",
    "        y_batches = np.array_split(y, math.ceil(len(y) / batch_size))\n",
    "        train_losses = []\n",
    "        val_losses = []\n",
    "        \n",
    "        for epoch in range(epochs):\n",
    "            total_loss = 0\n",
    "            bi = 0\n",
    "            for x_batch, y_batch in zip(x_batches, y_batches):\n",
    "                y_pred = self.y_pred(x_batch)\n",
    "\n",
    "                loss = mse_loss(y_pred, y_batch)\n",
    "                wgrad, bgrad = mse_loss_gradient(x_batch, y_pred, y_batch)\n",
    "\n",
    "                self.w -= lr * wgrad\n",
    "                self.b -= lr * bgrad\n",
    "\n",
    "                total_loss += loss\n",
    "                bi += 1\n",
    "            \n",
    "            train_loss = total_loss / len(x_batches)\n",
    "            val_loss = mse_loss(self.y_pred(X_val), y_val)\n",
    "\n",
    "            train_losses.append(train_loss)\n",
    "            val_losses.append(val_loss)\n",
    "\n",
    "            print(f\"Epoch {epoch + 1} ::: Train Loss: {train_loss} ::: Val Loss: {val_loss}\")\n",
    "        \n",
    "        return np.array(train_losses), np.array(val_losses)\n",
    "\n",
    "                \n"
   ]
  },
  {
   "cell_type": "code",
   "execution_count": 9,
   "metadata": {},
   "outputs": [
    {
     "name": "stdout",
     "output_type": "stream",
     "text": [
      "Epoch 1 ::: Train Loss: 0.43859334757159246 ::: Val Loss: 0.33834796984169296\n",
      "Epoch 2 ::: Train Loss: 0.3514156940034926 ::: Val Loss: 0.2738160643006094\n",
      "Epoch 3 ::: Train Loss: 0.28796534621775394 ::: Val Loss: 0.22724667147122832\n",
      "Epoch 4 ::: Train Loss: 0.2417144914778313 ::: Val Loss: 0.19363070408489938\n",
      "Epoch 5 ::: Train Loss: 0.20793405516044053 ::: Val Loss: 0.16934937857371687\n",
      "Epoch 6 ::: Train Loss: 0.18319798058798034 ::: Val Loss: 0.15178962889767825\n",
      "Epoch 7 ::: Train Loss: 0.16502412085036283 ::: Val Loss: 0.13906570304022686\n",
      "Epoch 8 ::: Train Loss: 0.15161409635666098 ::: Val Loss: 0.1298176546952925\n",
      "Epoch 9 ::: Train Loss: 0.14166484575698168 ::: Val Loss: 0.12306551670599579\n",
      "Epoch 10 ::: Train Loss: 0.13423211316708386 ::: Val Loss: 0.11810379154474437\n",
      "Epoch 11 ::: Train Loss: 0.12863155901569184 ::: Val Loss: 0.11442513079403832\n",
      "Epoch 12 ::: Train Loss: 0.12436712596627217 ::: Val Loss: 0.11166514445637238\n",
      "Epoch 13 ::: Train Loss: 0.12107914864599516 ::: Val Loss: 0.10956250382706466\n",
      "Epoch 14 ::: Train Loss: 0.11850676583408912 ::: Val Loss: 0.107930111754329\n",
      "Epoch 15 ::: Train Loss: 0.11646069328359995 ::: Val Loss: 0.10663428028562638\n",
      "Epoch 16 ::: Train Loss: 0.11480350165301173 ::: Val Loss: 0.10557970031254656\n",
      "Epoch 17 ::: Train Loss: 0.11343533097419098 ::: Val Loss: 0.10469859951355749\n",
      "Epoch 18 ::: Train Loss: 0.11228354317086711 ::: Val Loss: 0.10394292786312091\n",
      "Epoch 19 ::: Train Loss: 0.11129522712674131 ::: Val Loss: 0.10327873073930838\n",
      "Epoch 20 ::: Train Loss: 0.11043176997651612 ::: Val Loss: 0.10268210191321916\n",
      "Epoch 21 ::: Train Loss: 0.10966492501927674 ::: Val Loss: 0.1021362768486464\n",
      "Epoch 22 ::: Train Loss: 0.10897396365202615 ::: Val Loss: 0.10162954845861359\n",
      "Epoch 23 ::: Train Loss: 0.10834361245121713 ::: Val Loss: 0.10115377556230061\n",
      "Epoch 24 ::: Train Loss: 0.10776255891563677 ::: Val Loss: 0.10070331803689271\n",
      "Epoch 25 ::: Train Loss: 0.10722236906297672 ::: Val Loss: 0.10027427878212863\n",
      "Epoch 26 ::: Train Loss: 0.10671670330250105 ::: Val Loss: 0.09986396597645521\n",
      "Epoch 27 ::: Train Loss: 0.10624074832060536 ::: Val Loss: 0.09947051322652796\n",
      "Epoch 28 ::: Train Loss: 0.10579080539871122 ::: Val Loss: 0.09909261264820045\n",
      "Epoch 29 ::: Train Loss: 0.10536399201282745 ::: Val Loss: 0.09872932851497075\n",
      "Epoch 30 ::: Train Loss: 0.10495802546460346 ::: Val Loss: 0.0983799682070602\n",
      "Epoch 31 ::: Train Loss: 0.10457106591322067 ::: Val Loss: 0.09804399375952183\n",
      "Epoch 32 ::: Train Loss: 0.10420160242038329 ::: Val Loss: 0.09772096204221015\n",
      "Epoch 33 ::: Train Loss: 0.10384837014209657 ::: Val Loss: 0.0974104850155761\n",
      "Epoch 34 ::: Train Loss: 0.10351029007542346 ::: Val Loss: 0.09711220396133008\n",
      "Epoch 35 ::: Train Loss: 0.10318642513974881 ::: Val Loss: 0.09682577335173355\n",
      "Epoch 36 ::: Train Loss: 0.10287594808926981 ::: Val Loss: 0.09655085128779944\n",
      "Epoch 37 ::: Train Loss: 0.10257811799684025 ::: Val Loss: 0.09628709434396504\n",
      "Epoch 38 ::: Train Loss: 0.10229226294957877 ::: Val Loss: 0.09603415530526593\n",
      "Epoch 39 ::: Train Loss: 0.10201776724844036 ::: Val Loss: 0.0957916827452572\n",
      "Epoch 40 ::: Train Loss: 0.10175406187579163 ::: Val Loss: 0.09555932172127626\n",
      "Epoch 41 ::: Train Loss: 0.10150061733656457 ::: Val Loss: 0.09533671509593865\n",
      "Epoch 42 ::: Train Loss: 0.10125693822575056 ::: Val Loss: 0.09512350515725565\n",
      "Epoch 43 ::: Train Loss: 0.10102255905387483 ::: Val Loss: 0.09491933532410235\n",
      "Epoch 44 ::: Train Loss: 0.10079704099151589 ::: Val Loss: 0.09472385180307603\n",
      "Epoch 45 ::: Train Loss: 0.10057996928756703 ::: Val Loss: 0.09453670511722498\n",
      "Epoch 46 ::: Train Loss: 0.1003709511836574 ::: Val Loss: 0.0943575514639798\n",
      "Epoch 47 ::: Train Loss: 0.1001696141961267 ::: Val Loss: 0.09418605388410113\n",
      "Epoch 48 ::: Train Loss: 0.09997560467235435 ::: Val Loss: 0.0940218832393006\n",
      "Epoch 49 ::: Train Loss: 0.09978858655384182 ::: Val Loss: 0.09386471900604164\n",
      "Epoch 50 ::: Train Loss: 0.09960824029694475 ::: Val Loss: 0.09371424989877986\n",
      "Epoch 51 ::: Train Loss: 0.09943426191551766 ::: Val Loss: 0.09357017433887932\n",
      "Epoch 52 ::: Train Loss: 0.09926636211939226 ::: Val Loss: 0.09343220078658737\n",
      "Epoch 53 ::: Train Loss: 0.09910426552958664 ::: Val Loss: 0.09330004795341185\n",
      "Epoch 54 ::: Train Loss: 0.09894770995618103 ::: Val Loss: 0.09317344491147934\n",
      "Epoch 55 ::: Train Loss: 0.09879644572843999 ::: Val Loss: 0.09305213111526797\n",
      "Epoch 56 ::: Train Loss: 0.09865023506938979 ::: Val Loss: 0.09293585634971033\n",
      "Epoch 57 ::: Train Loss: 0.09850885150896632 ::: Val Loss: 0.09282438061719407\n",
      "Epoch 58 ::: Train Loss: 0.0983720793312262 ::: Val Loss: 0.09271747397453212\n",
      "Epoch 59 ::: Train Loss: 0.09823971305211389 ::: Val Loss: 0.09261491632958957\n",
      "Epoch 60 ::: Train Loss: 0.09811155692500644 ::: Val Loss: 0.09251649720596922\n",
      "Epoch 61 ::: Train Loss: 0.09798742447178786 ::: Val Loss: 0.09242201548298669\n",
      "Epoch 62 ::: Train Loss: 0.09786713803759584 ::: Val Loss: 0.09233127911711615\n",
      "Epoch 63 ::: Train Loss: 0.09775052836767131 ::: Val Loss: 0.09224410485015506\n",
      "Epoch 64 ::: Train Loss: 0.09763743420495866 ::: Val Loss: 0.0921603179085343\n",
      "Epoch 65 ::: Train Loss: 0.09752770190726497 ::: Val Loss: 0.09207975169748431\n",
      "Epoch 66 ::: Train Loss: 0.0974211850829138 ::: Val Loss: 0.09200224749314338\n",
      "Epoch 67 ::: Train Loss: 0.09731774424392534 ::: Val Loss: 0.09192765413515766\n",
      "Epoch 68 ::: Train Loss: 0.0972172464758352 ::: Val Loss: 0.09185582772185868\n",
      "Epoch 69 ::: Train Loss: 0.09711956512332427 ::: Val Loss: 0.09178663130970806\n",
      "Epoch 70 ::: Train Loss: 0.09702457949089066 ::: Val Loss: 0.09171993461836257\n",
      "Epoch 71 ::: Train Loss: 0.09693217455783554 ::: Val Loss: 0.09165561374242416\n",
      "Epoch 72 ::: Train Loss: 0.09684224070687907 ::: Val Loss: 0.0915935508706972\n",
      "Epoch 73 ::: Train Loss: 0.09675467346575568 ::: Val Loss: 0.0915336340135713\n",
      "Epoch 74 ::: Train Loss: 0.0966693732611727 ::: Val Loss: 0.09147575673897584\n",
      "Epoch 75 ::: Train Loss: 0.0965862451845454 ::: Val Loss: 0.09141981791720759\n",
      "Epoch 76 ::: Train Loss: 0.09650519876894917 ::: Val Loss: 0.09136572147481548\n",
      "Epoch 77 ::: Train Loss: 0.09642614777675762 ::: Val Loss: 0.0913133761576264\n",
      "Epoch 78 ::: Train Loss: 0.09634900999745849 ::: Val Loss: 0.09126269530291545\n",
      "Epoch 79 ::: Train Loss: 0.09627370705516357 ::: Val Loss: 0.09121359662065695\n",
      "Epoch 80 ::: Train Loss: 0.09620016422535164 ::: Val Loss: 0.0911660019837413\n",
      "Epoch 81 ::: Train Loss: 0.09612831026040436 ::: Val Loss: 0.09111983722699706\n",
      "Epoch 82 ::: Train Loss: 0.09605807722351521 ::: Val Loss: 0.0910750319548267\n",
      "Epoch 83 ::: Train Loss: 0.09598940033057271 ::: Val Loss: 0.0910315193572371\n",
      "Epoch 84 ::: Train Loss: 0.09592221779963553 ::: Val Loss: 0.09098923603402631\n",
      "Epoch 85 ::: Train Loss: 0.09585647070763624 ::: Val Loss: 0.09094812182687484\n",
      "Epoch 86 ::: Train Loss: 0.09579210285396844 ::: Val Loss: 0.09090811965907893\n",
      "Epoch 87 ::: Train Loss: 0.09572906063062583 ::: Val Loss: 0.0908691753826577\n",
      "Epoch 88 ::: Train Loss: 0.09566729289857967 ::: Val Loss: 0.09083123763256316\n",
      "Epoch 89 ::: Train Loss: 0.09560675087009517 ::: Val Loss: 0.09079425768772176\n",
      "Epoch 90 ::: Train Loss: 0.09554738799670062 ::: Val Loss: 0.09075818933863697\n",
      "Epoch 91 ::: Train Loss: 0.09548915986253895 ::: Val Loss: 0.09072298876128675\n",
      "Epoch 92 ::: Train Loss: 0.09543202408284097 ::: Val Loss: 0.09068861439705277\n",
      "Epoch 93 ::: Train Loss: 0.09537594020727616 ::: Val Loss: 0.09065502683842597\n",
      "Epoch 94 ::: Train Loss: 0.09532086962794392 ::: Val Loss: 0.0906221887202369\n",
      "Epoch 95 ::: Train Loss: 0.09526677549178426 ::: Val Loss: 0.09059006461616871\n",
      "Epoch 96 ::: Train Loss: 0.09521362261719299 ::: Val Loss: 0.090558620940316\n",
      "Epoch 97 ::: Train Loss: 0.09516137741464044 ::: Val Loss: 0.0905278258535622\n",
      "Epoch 98 ::: Train Loss: 0.09511000781110056 ::: Val Loss: 0.09049764917455463\n",
      "Epoch 99 ::: Train Loss: 0.09505948317810622 ::: Val Loss: 0.09046806229506577\n",
      "Epoch 100 ::: Train Loss: 0.09500977426325723 ::: Val Loss: 0.0904390380995359\n"
     ]
    }
   ],
   "source": [
    "linreg = LinearRegression(X_train.shape[1], y_mean, y_std)\n",
    "training_loss, validation_loss = linreg.train(X_train, y_train, X_val, y_val, epochs=100, lr=1e-3, batch_size=8)"
   ]
  },
  {
   "cell_type": "code",
   "execution_count": 13,
   "metadata": {},
   "outputs": [
    {
     "name": "stderr",
     "output_type": "stream",
     "text": [
      "Matplotlib is building the font cache; this may take a moment.\n"
     ]
    },
    {
     "data": {
      "text/plain": [
       "<matplotlib.legend.Legend at 0x15a987c80>"
      ]
     },
     "execution_count": 13,
     "metadata": {},
     "output_type": "execute_result"
    },
    {
     "data": {
      "image/png": "[encoded data removed]",
      "text/plain": [
       "<Figure size 640x480 with 1 Axes>"
      ]
     },
     "metadata": {},
     "output_type": "display_data"
    }
   ],
   "source": [
    "import matplotlib.pyplot as plt\n",
    "\n",
    "plt.plot(training_loss, color='b', label=\"Training Loss\")\n",
    "plt.plot(validation_loss, color='r', label=\"Validation Loss\")\n",
    "plt.title(\"Loss curve\")\n",
    "plt.legend()"
   ]
  },
  {
   "cell_type": "code",
   "execution_count": 14,
   "metadata": {},
   "outputs": [
    {
     "name": "stdout",
     "output_type": "stream",
     "text": [
      "Testing Loss: 0.0896210016975451\n"
     ]
    }
   ],
   "source": [
    "testing_predictions = linreg.y_pred(X_test)\n",
    "testing_loss = mse_loss(testing_predictions, y_test)\n",
    "print(f'Testing Loss: {testing_loss}')"
   ]
  },
  {
   "cell_type": "code",
   "execution_count": 22,
   "metadata": {},
   "outputs": [
    {
     "data": {
      "text/plain": [
       "(array([19.52109548, 18.42039642, 29.17348581,  8.99034374, 23.31705642,\n",
       "        18.56067704,  8.85423116, 11.01521616, 26.68770987, 29.2944144 ]),\n",
       " array([20. , 16. , 27. , 13. , 21. , 19.4, 15. , 15. , 22.3, 18. ]))"
      ]
     },
     "execution_count": 22,
     "metadata": {},
     "output_type": "execute_result"
    }
   ],
   "source": [
    "linreg.y_pred_mpg(X_test[:10]), y_test[:10] * y_std + y_mean"
   ]
  }
 ],
 "metadata": {
  "kernelspec": {
   "display_name": "base",
   "language": "python",
   "name": "python3"
  },
  "language_info": {
   "codemirror_mode": {
    "name": "ipython",
    "version": 3
   },
   "file_extension": ".py",
   "mimetype": "text/x-python",
   "name": "python",
   "nbconvert_exporter": "python",
   "pygments_lexer": "ipython3",
   "version": "3.11.5"
  }
 },
 "nbformat": 4,
 "nbformat_minor": 2
}
