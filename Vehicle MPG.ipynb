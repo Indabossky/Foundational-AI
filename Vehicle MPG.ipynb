{
 "cells": [
  {
   "cell_type": "markdown",
   "metadata": {},
   "source": [
    "## Download Vehicle MPG Dataset"
   ]
  },
  {
   "cell_type": "code",
   "execution_count": 23,
   "metadata": {},
   "outputs": [
    {
     "name": "stdout",
     "output_type": "stream",
     "text": [
      "Rows removed: 6\n"
     ]
    }
   ],
   "source": [
    "from ucimlrepo import fetch_ucirepo\n",
    "import pandas as pd\n",
    "\n",
    "vehicle_mpg = fetch_ucirepo(id=9)\n",
    "\n",
    "X = vehicle_mpg.data.features\n",
    "y = vehicle_mpg.data.targets\n",
    "\n",
    "data = pd.concat([X, y], axis=1)\n",
    "\n",
    "cleaned_data = data.dropna()\n",
    "\n",
    "X = cleaned_data.iloc[:, :-1]\n",
    "y = cleaned_data.iloc[:, -1]\n",
    "\n",
    "rows_removed = data.shape[0] - cleaned_data.shape[0]\n",
    "print(f\"Rows removed: {rows_removed}\")"
   ]
  },
  {
   "cell_type": "markdown",
   "metadata": {},
   "source": [
    "## Data Splitting and Standardization"
   ]
  },
  {
   "cell_type": "code",
   "execution_count": 24,
   "metadata": {},
   "outputs": [],
   "source": [
    "from sklearn.model_selection import train_test_split\n",
    "X_train, X_leftover, y_train, y_leftover = train_test_split(X, y, test_size=0.3, random_state=42, shuffle = True)\n",
    "X_val, X_test, y_val, y_test = train_test_split(X_leftover, y_leftover, test_size=0.5, random_state=42, shuffle = True)\n",
    "\n",
    "X_mean = X_train.mean(axis=0)\n",
    "X_std = X_train.std(axis=0)\n",
    "\n",
    "X_train = ((X_train - X_mean) / X_std).to_numpy()\n",
    "X_val = ((X_val - X_mean) / X_std).to_numpy()\n",
    "X_test = ((X_test - X_mean) / X_std).to_numpy()\n",
    "\n",
    "y_mean = y_train.mean()\n",
    "y_std = y_train.std()\n",
    "\n",
    "y_train = ((y_train - y_mean) / y_std).to_numpy().reshape(-1, 1)\n",
    "y_val = ((y_val - y_mean) / y_std).to_numpy().reshape(-1, 1)\n",
    "y_test = ((y_test - y_mean) / y_std).to_numpy().reshape(-1, 1)"
   ]
  },
  {
   "cell_type": "code",
   "execution_count": 25,
   "metadata": {},
   "outputs": [
    {
     "data": {
      "text/plain": [
       "((274, 7), (274, 1), (59, 7), (59, 1), (59, 7), (59, 1))"
      ]
     },
     "execution_count": 25,
     "metadata": {},
     "output_type": "execute_result"
    }
   ],
   "source": [
    "X_train.shape, y_train.shape, X_val.shape, y_val.shape, X_test.shape, y_test.shape"
   ]
  },
  {
   "cell_type": "code",
   "execution_count": 38,
   "metadata": {},
   "outputs": [
    {
     "name": "stdout",
     "output_type": "stream",
     "text": [
      "Epoch 1  :::  Train Loss=0.5043482098085835  :::  Val Loss=0.40032564142150073\n",
      "Epoch 2  :::  Train Loss=0.45977298659194044  :::  Val Loss=0.388505486251289\n",
      "Epoch 3  :::  Train Loss=0.41059563505478824  :::  Val Loss=0.36210788144279804\n",
      "Epoch 4  :::  Train Loss=0.37607093859244667  :::  Val Loss=0.28716704758263173\n",
      "Epoch 5  :::  Train Loss=0.3089183628577347  :::  Val Loss=0.3128537455597207\n",
      "Epoch 6  :::  Train Loss=0.28088376444902274  :::  Val Loss=0.2565928556572144\n",
      "Epoch 7  :::  Train Loss=0.27278852166362805  :::  Val Loss=0.22302984557484462\n",
      "Epoch 8  :::  Train Loss=0.2167235214991695  :::  Val Loss=0.20945870677301523\n",
      "Epoch 9  :::  Train Loss=0.23200554461160802  :::  Val Loss=0.21079741881075703\n",
      "Epoch 10  :::  Train Loss=0.1894608770407234  :::  Val Loss=0.2260333089899696\n",
      "Epoch 11  :::  Train Loss=0.18496863444402623  :::  Val Loss=0.22020580720015906\n",
      "Epoch 12  :::  Train Loss=0.17657188229388118  :::  Val Loss=0.20460686798455127\n",
      "Epoch 13  :::  Train Loss=0.17218398326451545  :::  Val Loss=0.1914859810473452\n",
      "Epoch 14  :::  Train Loss=0.1620939296943114  :::  Val Loss=0.1923534760371395\n",
      "Epoch 15  :::  Train Loss=0.19067766417437734  :::  Val Loss=0.19452556911444224\n",
      "Epoch 16  :::  Train Loss=0.17294658029238208  :::  Val Loss=0.2153403997013257\n",
      "Epoch 17  :::  Train Loss=0.17491377631008642  :::  Val Loss=0.21119173677572822\n",
      "Epoch 18  :::  Train Loss=0.15626983629875463  :::  Val Loss=0.189890523480405\n",
      "Epoch 19  :::  Train Loss=0.15671653727961418  :::  Val Loss=0.16912475723245482\n",
      "Epoch 20  :::  Train Loss=0.16204157603100022  :::  Val Loss=0.14442494044275025\n",
      "Epoch 21  :::  Train Loss=0.1780504150116154  :::  Val Loss=0.20485474388656613\n",
      "Epoch 22  :::  Train Loss=0.1587617157487065  :::  Val Loss=0.19819956240142422\n",
      "Epoch 23  :::  Train Loss=0.17110021063556835  :::  Val Loss=0.16045562702575913\n",
      "Epoch 24  :::  Train Loss=0.18265911509670849  :::  Val Loss=0.18694686452469156\n",
      "Epoch 25  :::  Train Loss=0.1528122328450008  :::  Val Loss=0.19264530761422471\n",
      "Epoch 26  :::  Train Loss=0.15998305931422474  :::  Val Loss=0.13916024208035074\n",
      "Epoch 27  :::  Train Loss=0.1606231779955588  :::  Val Loss=0.2077890993997277\n",
      "Epoch 28  :::  Train Loss=0.17398647430339753  :::  Val Loss=0.16967141027734142\n",
      "Epoch 29  :::  Train Loss=0.16710251525088174  :::  Val Loss=0.17781668991609567\n",
      "Epoch 30  :::  Train Loss=0.15149348266792922  :::  Val Loss=0.13823881944035393\n",
      "Epoch 31  :::  Train Loss=0.15635296219909736  :::  Val Loss=0.16403239481683585\n",
      "Epoch 32  :::  Train Loss=0.17432304128277046  :::  Val Loss=0.15763483618243035\n"
     ]
    }
   ],
   "source": [
    "from MLP import MultilayerPerceptron, Layer, Tanh, Sigmoid, SquaredError, Linear\n",
    "\n",
    "mlp = MultilayerPerceptron([\n",
    "    Layer(fan_in=X_train.shape[1], fan_out=4, activation_function=Tanh(), loss_function=SquaredError(), dropout_rate=0.2),\n",
    "    Layer(fan_in=4, fan_out=4, activation_function=Tanh(), loss_function=SquaredError(), dropout_rate=0.2),\n",
    "    Layer(fan_in=4, fan_out=4, activation_function=Tanh(), loss_function=SquaredError()),\n",
    "    Layer(fan_in=4, fan_out=1, activation_function=Linear(), loss_function=SquaredError())\n",
    "])\n",
    "    \n",
    "training_losses, validation_losses = mlp.train(\n",
    "    train_x=X_train,\n",
    "    train_y=y_train,\n",
    "    val_x=X_val,\n",
    "    val_y=y_val,\n",
    "    loss_func=SquaredError(),\n",
    "    learning_rate=1E-3,\n",
    "    batch_size=16,\n",
    "    epochs=32,\n",
    "    use_rmsprop=True,\n",
    "    decay_rate=0.9,\n",
    "    epsilon=1e-8\n",
    ")"
   ]
  }
 ],
 "metadata": {
  "kernelspec": {
   "display_name": "Python 3",
   "language": "python",
   "name": "python3"
  },
  "language_info": {
   "codemirror_mode": {
    "name": "ipython",
    "version": 3
   },
   "file_extension": ".py",
   "mimetype": "text/x-python",
   "name": "python",
   "nbconvert_exporter": "python",
   "pygments_lexer": "ipython3",
   "version": "3.12.0"
  }
 },
 "nbformat": 4,
 "nbformat_minor": 2
}
